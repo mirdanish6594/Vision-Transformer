{
  "nbformat": 4,
  "nbformat_minor": 0,
  "metadata": {
    "colab": {
      "provenance": [],
      "authorship_tag": "ABX9TyO7ExZhgOdt1Yebr6Hr4if9",
      "include_colab_link": true
    },
    "kernelspec": {
      "name": "python3",
      "display_name": "Python 3"
    },
    "language_info": {
      "name": "python"
    }
  },
  "cells": [
    {
      "cell_type": "markdown",
      "metadata": {
        "id": "view-in-github",
        "colab_type": "text"
      },
      "source": [
        "<a href=\"https://colab.research.google.com/github/mirdanish6594/Vision-Transformer/blob/main/Vision_Transformer.ipynb\" target=\"_parent\"><img src=\"https://colab.research.google.com/assets/colab-badge.svg\" alt=\"Open In Colab\"/></a>"
      ]
    },
    {
      "cell_type": "code",
      "execution_count": 1,
      "metadata": {
        "colab": {
          "base_uri": "https://localhost:8080/"
        },
        "id": "m8U7MeLcmtbn",
        "outputId": "b24fc474-9e50-4a3d-bb25-21ccef058bb3"
      },
      "outputs": [
        {
          "output_type": "stream",
          "name": "stdout",
          "text": [
            "Collecting tensorflow==2.8.0\n",
            "  Downloading tensorflow-2.8.0-cp310-cp310-manylinux2010_x86_64.whl.metadata (2.9 kB)\n",
            "Requirement already satisfied: absl-py>=0.4.0 in /usr/local/lib/python3.10/dist-packages (from tensorflow==2.8.0) (1.4.0)\n",
            "Requirement already satisfied: astunparse>=1.6.0 in /usr/local/lib/python3.10/dist-packages (from tensorflow==2.8.0) (1.6.3)\n",
            "Requirement already satisfied: flatbuffers>=1.12 in /usr/local/lib/python3.10/dist-packages (from tensorflow==2.8.0) (24.3.25)\n",
            "Requirement already satisfied: gast>=0.2.1 in /usr/local/lib/python3.10/dist-packages (from tensorflow==2.8.0) (0.6.0)\n",
            "Requirement already satisfied: google-pasta>=0.1.1 in /usr/local/lib/python3.10/dist-packages (from tensorflow==2.8.0) (0.2.0)\n",
            "Requirement already satisfied: h5py>=2.9.0 in /usr/local/lib/python3.10/dist-packages (from tensorflow==2.8.0) (3.11.0)\n",
            "Collecting keras-preprocessing>=1.1.1 (from tensorflow==2.8.0)\n",
            "  Downloading Keras_Preprocessing-1.1.2-py2.py3-none-any.whl.metadata (1.9 kB)\n",
            "Requirement already satisfied: libclang>=9.0.1 in /usr/local/lib/python3.10/dist-packages (from tensorflow==2.8.0) (18.1.1)\n",
            "Requirement already satisfied: numpy>=1.20 in /usr/local/lib/python3.10/dist-packages (from tensorflow==2.8.0) (1.26.4)\n",
            "Requirement already satisfied: opt-einsum>=2.3.2 in /usr/local/lib/python3.10/dist-packages (from tensorflow==2.8.0) (3.4.0)\n",
            "Requirement already satisfied: protobuf>=3.9.2 in /usr/local/lib/python3.10/dist-packages (from tensorflow==2.8.0) (3.20.3)\n",
            "Requirement already satisfied: setuptools in /usr/local/lib/python3.10/dist-packages (from tensorflow==2.8.0) (71.0.4)\n",
            "Requirement already satisfied: six>=1.12.0 in /usr/local/lib/python3.10/dist-packages (from tensorflow==2.8.0) (1.16.0)\n",
            "Requirement already satisfied: termcolor>=1.1.0 in /usr/local/lib/python3.10/dist-packages (from tensorflow==2.8.0) (2.4.0)\n",
            "Requirement already satisfied: typing-extensions>=3.6.6 in /usr/local/lib/python3.10/dist-packages (from tensorflow==2.8.0) (4.12.2)\n",
            "Requirement already satisfied: wrapt>=1.11.0 in /usr/local/lib/python3.10/dist-packages (from tensorflow==2.8.0) (1.16.0)\n",
            "Collecting tensorboard<2.9,>=2.8 (from tensorflow==2.8.0)\n",
            "  Downloading tensorboard-2.8.0-py3-none-any.whl.metadata (1.9 kB)\n",
            "Collecting tf-estimator-nightly==2.8.0.dev2021122109 (from tensorflow==2.8.0)\n",
            "  Downloading tf_estimator_nightly-2.8.0.dev2021122109-py2.py3-none-any.whl.metadata (1.2 kB)\n",
            "Collecting keras<2.9,>=2.8.0rc0 (from tensorflow==2.8.0)\n",
            "  Downloading keras-2.8.0-py2.py3-none-any.whl.metadata (1.3 kB)\n",
            "Requirement already satisfied: tensorflow-io-gcs-filesystem>=0.23.1 in /usr/local/lib/python3.10/dist-packages (from tensorflow==2.8.0) (0.37.1)\n",
            "Requirement already satisfied: grpcio<2.0,>=1.24.3 in /usr/local/lib/python3.10/dist-packages (from tensorflow==2.8.0) (1.64.1)\n",
            "Requirement already satisfied: wheel<1.0,>=0.23.0 in /usr/local/lib/python3.10/dist-packages (from astunparse>=1.6.0->tensorflow==2.8.0) (0.44.0)\n",
            "Requirement already satisfied: google-auth<3,>=1.6.3 in /usr/local/lib/python3.10/dist-packages (from tensorboard<2.9,>=2.8->tensorflow==2.8.0) (2.27.0)\n",
            "Collecting google-auth-oauthlib<0.5,>=0.4.1 (from tensorboard<2.9,>=2.8->tensorflow==2.8.0)\n",
            "  Downloading google_auth_oauthlib-0.4.6-py2.py3-none-any.whl.metadata (2.7 kB)\n",
            "Requirement already satisfied: markdown>=2.6.8 in /usr/local/lib/python3.10/dist-packages (from tensorboard<2.9,>=2.8->tensorflow==2.8.0) (3.7)\n",
            "Requirement already satisfied: requests<3,>=2.21.0 in /usr/local/lib/python3.10/dist-packages (from tensorboard<2.9,>=2.8->tensorflow==2.8.0) (2.32.3)\n",
            "Collecting tensorboard-data-server<0.7.0,>=0.6.0 (from tensorboard<2.9,>=2.8->tensorflow==2.8.0)\n",
            "  Downloading tensorboard_data_server-0.6.1-py3-none-manylinux2010_x86_64.whl.metadata (1.1 kB)\n",
            "Collecting tensorboard-plugin-wit>=1.6.0 (from tensorboard<2.9,>=2.8->tensorflow==2.8.0)\n",
            "  Downloading tensorboard_plugin_wit-1.8.1-py3-none-any.whl.metadata (873 bytes)\n",
            "Requirement already satisfied: werkzeug>=0.11.15 in /usr/local/lib/python3.10/dist-packages (from tensorboard<2.9,>=2.8->tensorflow==2.8.0) (3.0.4)\n",
            "Requirement already satisfied: cachetools<6.0,>=2.0.0 in /usr/local/lib/python3.10/dist-packages (from google-auth<3,>=1.6.3->tensorboard<2.9,>=2.8->tensorflow==2.8.0) (5.5.0)\n",
            "Requirement already satisfied: pyasn1-modules>=0.2.1 in /usr/local/lib/python3.10/dist-packages (from google-auth<3,>=1.6.3->tensorboard<2.9,>=2.8->tensorflow==2.8.0) (0.4.1)\n",
            "Requirement already satisfied: rsa<5,>=3.1.4 in /usr/local/lib/python3.10/dist-packages (from google-auth<3,>=1.6.3->tensorboard<2.9,>=2.8->tensorflow==2.8.0) (4.9)\n",
            "Requirement already satisfied: requests-oauthlib>=0.7.0 in /usr/local/lib/python3.10/dist-packages (from google-auth-oauthlib<0.5,>=0.4.1->tensorboard<2.9,>=2.8->tensorflow==2.8.0) (1.3.1)\n",
            "Requirement already satisfied: charset-normalizer<4,>=2 in /usr/local/lib/python3.10/dist-packages (from requests<3,>=2.21.0->tensorboard<2.9,>=2.8->tensorflow==2.8.0) (3.3.2)\n",
            "Requirement already satisfied: idna<4,>=2.5 in /usr/local/lib/python3.10/dist-packages (from requests<3,>=2.21.0->tensorboard<2.9,>=2.8->tensorflow==2.8.0) (3.10)\n",
            "Requirement already satisfied: urllib3<3,>=1.21.1 in /usr/local/lib/python3.10/dist-packages (from requests<3,>=2.21.0->tensorboard<2.9,>=2.8->tensorflow==2.8.0) (2.2.3)\n",
            "Requirement already satisfied: certifi>=2017.4.17 in /usr/local/lib/python3.10/dist-packages (from requests<3,>=2.21.0->tensorboard<2.9,>=2.8->tensorflow==2.8.0) (2024.8.30)\n",
            "Requirement already satisfied: MarkupSafe>=2.1.1 in /usr/local/lib/python3.10/dist-packages (from werkzeug>=0.11.15->tensorboard<2.9,>=2.8->tensorflow==2.8.0) (2.1.5)\n",
            "Requirement already satisfied: pyasn1<0.7.0,>=0.4.6 in /usr/local/lib/python3.10/dist-packages (from pyasn1-modules>=0.2.1->google-auth<3,>=1.6.3->tensorboard<2.9,>=2.8->tensorflow==2.8.0) (0.6.1)\n",
            "Requirement already satisfied: oauthlib>=3.0.0 in /usr/local/lib/python3.10/dist-packages (from requests-oauthlib>=0.7.0->google-auth-oauthlib<0.5,>=0.4.1->tensorboard<2.9,>=2.8->tensorflow==2.8.0) (3.2.2)\n",
            "Downloading tensorflow-2.8.0-cp310-cp310-manylinux2010_x86_64.whl (497.6 MB)\n",
            "\u001b[2K   \u001b[90m━━━━━━━━━━━━━━━━━━━━━━━━━━━━━━━━━━━━━━━━\u001b[0m \u001b[32m497.6/497.6 MB\u001b[0m \u001b[31m3.5 MB/s\u001b[0m eta \u001b[36m0:00:00\u001b[0m\n",
            "\u001b[?25hDownloading tf_estimator_nightly-2.8.0.dev2021122109-py2.py3-none-any.whl (462 kB)\n",
            "\u001b[2K   \u001b[90m━━━━━━━━━━━━━━━━━━━━━━━━━━━━━━━━━━━━━━━━\u001b[0m \u001b[32m462.5/462.5 kB\u001b[0m \u001b[31m26.5 MB/s\u001b[0m eta \u001b[36m0:00:00\u001b[0m\n",
            "\u001b[?25hDownloading keras-2.8.0-py2.py3-none-any.whl (1.4 MB)\n",
            "\u001b[2K   \u001b[90m━━━━━━━━━━━━━━━━━━━━━━━━━━━━━━━━━━━━━━━━\u001b[0m \u001b[32m1.4/1.4 MB\u001b[0m \u001b[31m47.2 MB/s\u001b[0m eta \u001b[36m0:00:00\u001b[0m\n",
            "\u001b[?25hDownloading Keras_Preprocessing-1.1.2-py2.py3-none-any.whl (42 kB)\n",
            "\u001b[2K   \u001b[90m━━━━━━━━━━━━━━━━━━━━━━━━━━━━━━━━━━━━━━━━\u001b[0m \u001b[32m42.6/42.6 kB\u001b[0m \u001b[31m3.0 MB/s\u001b[0m eta \u001b[36m0:00:00\u001b[0m\n",
            "\u001b[?25hDownloading tensorboard-2.8.0-py3-none-any.whl (5.8 MB)\n",
            "\u001b[2K   \u001b[90m━━━━━━━━━━━━━━━━━━━━━━━━━━━━━━━━━━━━━━━━\u001b[0m \u001b[32m5.8/5.8 MB\u001b[0m \u001b[31m62.1 MB/s\u001b[0m eta \u001b[36m0:00:00\u001b[0m\n",
            "\u001b[?25hDownloading google_auth_oauthlib-0.4.6-py2.py3-none-any.whl (18 kB)\n",
            "Downloading tensorboard_data_server-0.6.1-py3-none-manylinux2010_x86_64.whl (4.9 MB)\n",
            "\u001b[2K   \u001b[90m━━━━━━━━━━━━━━━━━━━━━━━━━━━━━━━━━━━━━━━━\u001b[0m \u001b[32m4.9/4.9 MB\u001b[0m \u001b[31m66.7 MB/s\u001b[0m eta \u001b[36m0:00:00\u001b[0m\n",
            "\u001b[?25hDownloading tensorboard_plugin_wit-1.8.1-py3-none-any.whl (781 kB)\n",
            "\u001b[2K   \u001b[90m━━━━━━━━━━━━━━━━━━━━━━━━━━━━━━━━━━━━━━━━\u001b[0m \u001b[32m781.3/781.3 kB\u001b[0m \u001b[31m29.1 MB/s\u001b[0m eta \u001b[36m0:00:00\u001b[0m\n",
            "\u001b[?25hInstalling collected packages: tf-estimator-nightly, tensorboard-plugin-wit, keras, tensorboard-data-server, keras-preprocessing, google-auth-oauthlib, tensorboard, tensorflow\n",
            "  Attempting uninstall: keras\n",
            "    Found existing installation: keras 3.4.1\n",
            "    Uninstalling keras-3.4.1:\n",
            "      Successfully uninstalled keras-3.4.1\n",
            "  Attempting uninstall: tensorboard-data-server\n",
            "    Found existing installation: tensorboard-data-server 0.7.2\n",
            "    Uninstalling tensorboard-data-server-0.7.2:\n",
            "      Successfully uninstalled tensorboard-data-server-0.7.2\n",
            "  Attempting uninstall: google-auth-oauthlib\n",
            "    Found existing installation: google-auth-oauthlib 1.2.1\n",
            "    Uninstalling google-auth-oauthlib-1.2.1:\n",
            "      Successfully uninstalled google-auth-oauthlib-1.2.1\n",
            "  Attempting uninstall: tensorboard\n",
            "    Found existing installation: tensorboard 2.17.0\n",
            "    Uninstalling tensorboard-2.17.0:\n",
            "      Successfully uninstalled tensorboard-2.17.0\n",
            "  Attempting uninstall: tensorflow\n",
            "    Found existing installation: tensorflow 2.17.0\n",
            "    Uninstalling tensorflow-2.17.0:\n",
            "      Successfully uninstalled tensorflow-2.17.0\n",
            "\u001b[31mERROR: pip's dependency resolver does not currently take into account all the packages that are installed. This behaviour is the source of the following dependency conflicts.\n",
            "pandas-gbq 0.23.2 requires google-auth-oauthlib>=0.7.0, but you have google-auth-oauthlib 0.4.6 which is incompatible.\n",
            "tf-keras 2.17.0 requires tensorflow<2.18,>=2.17, but you have tensorflow 2.8.0 which is incompatible.\u001b[0m\u001b[31m\n",
            "\u001b[0mSuccessfully installed google-auth-oauthlib-0.4.6 keras-2.8.0 keras-preprocessing-1.1.2 tensorboard-2.8.0 tensorboard-data-server-0.6.1 tensorboard-plugin-wit-1.8.1 tensorflow-2.8.0 tf-estimator-nightly-2.8.0.dev2021122109\n",
            "Requirement already satisfied: keras==2.8.0 in /usr/local/lib/python3.10/dist-packages (2.8.0)\n",
            "Collecting tensorflow-addons==0.17.0\n",
            "  Downloading tensorflow_addons-0.17.0-cp310-cp310-manylinux_2_17_x86_64.manylinux2014_x86_64.whl.metadata (1.8 kB)\n",
            "Requirement already satisfied: packaging in /usr/local/lib/python3.10/dist-packages (from tensorflow-addons==0.17.0) (24.1)\n",
            "Requirement already satisfied: typeguard>=2.7 in /usr/local/lib/python3.10/dist-packages (from tensorflow-addons==0.17.0) (4.3.0)\n",
            "Requirement already satisfied: typing-extensions>=4.10.0 in /usr/local/lib/python3.10/dist-packages (from typeguard>=2.7->tensorflow-addons==0.17.0) (4.12.2)\n",
            "Downloading tensorflow_addons-0.17.0-cp310-cp310-manylinux_2_17_x86_64.manylinux2014_x86_64.whl (1.1 MB)\n",
            "\u001b[2K   \u001b[90m━━━━━━━━━━━━━━━━━━━━━━━━━━━━━━━━━━━━━━━━\u001b[0m \u001b[32m1.1/1.1 MB\u001b[0m \u001b[31m3.7 MB/s\u001b[0m eta \u001b[36m0:00:00\u001b[0m\n",
            "\u001b[?25hInstalling collected packages: tensorflow-addons\n",
            "Successfully installed tensorflow-addons-0.17.0\n"
          ]
        }
      ],
      "source": [
        "!pip install tensorflow==2.8.0\n",
        "!pip install keras==2.8.0\n",
        "!pip install tensorflow-addons==0.17.0 #(0.20.0)"
      ]
    },
    {
      "cell_type": "code",
      "source": [
        "import numpy as np\n",
        "import tensorflow as tf\n",
        "from tensorflow import keras\n",
        "from tensorflow.keras import layers\n",
        "import tensorflow_addons as tfa"
      ],
      "metadata": {
        "id": "FqO-ZvoSnk36"
      },
      "execution_count": 2,
      "outputs": []
    },
    {
      "cell_type": "code",
      "source": [
        "num_classes = 10\n",
        "input_shape = (32, 32, 3)\n",
        "(x_train, y_train), (x_test, y_test) = keras.datasets.cifar10.load_data()\n",
        "\n",
        "print(f\"x_train shape: {x_train.shape} - y_train shape: {y_train.shape}\")\n",
        "print(f\"x_test shape: {x_test.shape} - y_test shape: {y_test.shape}\")"
      ],
      "metadata": {
        "colab": {
          "base_uri": "https://localhost:8080/"
        },
        "id": "wyrFkt6Snt7x",
        "outputId": "2d3cef21-5797-47dd-a526-676d0e839df8"
      },
      "execution_count": 3,
      "outputs": [
        {
          "output_type": "stream",
          "name": "stdout",
          "text": [
            "Downloading data from https://www.cs.toronto.edu/~kriz/cifar-10-python.tar.gz\n",
            "170500096/170498071 [==============================] - 10s 0us/step\n",
            "170508288/170498071 [==============================] - 10s 0us/step\n",
            "x_train shape: (50000, 32, 32, 3) - y_train shape: (50000, 1)\n",
            "x_test shape: (10000, 32, 32, 3) - y_test shape: (10000, 1)\n"
          ]
        }
      ]
    },
    {
      "cell_type": "code",
      "source": [
        "x_train = x_train[:500]\n",
        "y_train = y_train[:500]\n",
        "x_test = x_test[:500]\n",
        "y_test = y_test[:500]"
      ],
      "metadata": {
        "id": "aLAHR7FIrWyI"
      },
      "execution_count": 13,
      "outputs": []
    },
    {
      "cell_type": "code",
      "source": [
        "learning_rate = 0.001\n",
        "weight_decay = 0.0001\n",
        "batch_size = 256\n",
        "num_epochs = 40\n",
        "image_size = 72 # we'll resize input images to this size\n",
        "patch_size = 6 # size of the patches to be extracted from the input images\n",
        "num_patches = (image_size // patch_size) ** 2\n",
        "projection_dim = 64\n",
        "num_heads = 4\n",
        "transformer_units = [\n",
        "    projection_dim*2,\n",
        "    projection_dim\n",
        "] # size of the transformer layers\n",
        "transformer_layers = 8\n",
        "mlp_head_units = [2048, 1024] # size of the dense layers of the final classifier"
      ],
      "metadata": {
        "id": "cw-5knzWn-hU"
      },
      "execution_count": 4,
      "outputs": []
    },
    {
      "cell_type": "code",
      "source": [
        "data_augmentation = keras.Sequential(\n",
        "    [\n",
        "        layers.Normalization(),\n",
        "        layers.Resizing(image_size, image_size),\n",
        "        layers.RandomFlip(\"horizontal\"),\n",
        "        layers.RandomRotation(factor = 0.02),\n",
        "        layers.RandomZoom(height_factor = 0.2, width_factor = 0.2)\n",
        "    ],\n",
        "    name = \"data_augmentation\"\n",
        ")\n",
        "data_augmentation.layers[0].adapt(x_train)"
      ],
      "metadata": {
        "id": "0zq68DWwoYcC"
      },
      "execution_count": 5,
      "outputs": []
    },
    {
      "cell_type": "code",
      "source": [
        "def mlp(x, hidden_units, dropout_rate):\n",
        "  for units in hidden_units:\n",
        "    x = layers.Dense(units, activation = tf.nn.gelu)(x)\n",
        "    x = layers.Dropout(dropout_rate)(x)\n",
        "  return x"
      ],
      "metadata": {
        "id": "hiUJFzRHooJI"
      },
      "execution_count": 6,
      "outputs": []
    },
    {
      "cell_type": "code",
      "source": [
        "class Patches(layers.Layer):\n",
        "  def __init__(self, patch_size):\n",
        "    super(Patches, self).__init__()\n",
        "    self.patch_size = patch_size\n",
        "\n",
        "  def call(self, images):\n",
        "    batch_size = tf.shape(images)[0]\n",
        "    patches = tf.image.extract_patches(\n",
        "        images = images,\n",
        "        sizes = [1, self.patch_size, self.patch_size, 1],\n",
        "        strides = [1, self.patch_size, self.patch_size, 1],\n",
        "        rates = [1, 1, 1, 1],\n",
        "        padding = \"VALID\",\n",
        "    )\n",
        "    patch_dims = patches.shape[-1]\n",
        "    patches = tf.reshape(patches, [batch_size, -1, patch_dims])\n",
        "    return patches"
      ],
      "metadata": {
        "id": "U_7YweMMowf5"
      },
      "execution_count": 7,
      "outputs": []
    },
    {
      "cell_type": "code",
      "source": [
        "import matplotlib.pyplot as plt\n",
        "plt.figure(figsize = (4,4))\n",
        "image = x_train[np.random.choice(range(x_train.shape[0]))]\n",
        "plt.imshow(image.astype(\"uint8\"))\n",
        "plt.axis(\"off\")\n",
        "\n",
        "resized_image = tf.image.resize(\n",
        "    tf.convert_to_tensor([image]), size = (image_size, image_size)\n",
        ")\n",
        "\n",
        "patches = Patches(patch_size)(resized_image)\n",
        "print(f\"Image size: {image_size} X {image_size}\")\n",
        "print(f\"Patch size: {patch_size} X {patch_size}\")\n",
        "print(f\"Pathes per image: {patches.shape[1]}\")\n",
        "print(f\"Elements per patch: {patches.shape[-1]}\")\n",
        "\n",
        "n = int(np.sqrt(patches.shape[1]))\n",
        "plt.figure(figsize = (4,4))\n",
        "for i, patch in enumerate(patches[0]):\n",
        "  ax = plt.subplot(n, n, i+1)\n",
        "  patch_img = tf.reshape(patch, (patch_size, patch_size, 3))\n",
        "  plt.imshow(patch_img.numpy().astype(\"uint8\"))\n",
        "  plt.axis(\"off\")"
      ],
      "metadata": {
        "colab": {
          "base_uri": "https://localhost:8080/",
          "height": 742
        },
        "id": "v0fgObPDo8HM",
        "outputId": "f76494b7-becc-462e-accc-10584b8a01b9"
      },
      "execution_count": 8,
      "outputs": [
        {
          "output_type": "stream",
          "name": "stdout",
          "text": [
            "Image size: 72 X 72\n",
            "Patch size: 6 X 6\n",
            "Pathes per image: 144\n",
            "Elements per patch: 108\n"
          ]
        },
        {
          "output_type": "display_data",
          "data": {
            "text/plain": [
              "<Figure size 400x400 with 1 Axes>"
            ],
            "image/png": "[encoded data removed]"
          },
          "metadata": {}
        },
        {
          "output_type": "display_data",
          "data": {
            "text/plain": [
              "<Figure size 400x400 with 144 Axes>"
            ],
            "image/png": "[encoded data removed]"
          },
          "metadata": {}
        }
      ]
    },
    {
      "cell_type": "code",
      "source": [
        "class PatchEncoder(layers.Layer):\n",
        "    def __init__(self, num_patches, projection_dim):\n",
        "        super(PatchEncoder, self).__init__()\n",
        "        self.num_patches = num_patches\n",
        "        self.projection = tf.keras.layers.Dense(units=projection_dim)\n",
        "        self.position_embedding = tf.keras.layers.Embedding(\n",
        "            input_dim=num_patches, output_dim=projection_dim\n",
        "        )\n",
        "\n",
        "    def call(self, patches):\n",
        "        print(f\"Patch shape before projection: {patches.shape}\")\n",
        "        encoded = self.projection(patches)\n",
        "        print(f\"Patch shape after projection: {encoded.shape}\")\n",
        "        positions = tf.range(start=0, limit=self.num_patches, delta=1)\n",
        "        encoded += self.position_embedding(positions)\n",
        "        return encoded"
      ],
      "metadata": {
        "id": "GtevCMBYpQTg"
      },
      "execution_count": 9,
      "outputs": []
    },
    {
      "cell_type": "code",
      "source": [
        "def create_vit_classifier():\n",
        "    inputs = layers.Input(shape=input_shape)\n",
        "    augmented = data_augmentation(inputs)\n",
        "    patches = Patches(patch_size)(augmented)\n",
        "    print(f\"Patch shape before projection: {patches.shape}\")\n",
        "    encoded_patches = PatchEncoder(num_patches, projection_dim)(patches)\n",
        "    print(f\"Patch shape after projection: {encoded_patches.shape}\")\n",
        "\n",
        "    # Transformer block\n",
        "    for _ in range(transformer_layers):\n",
        "        x1 = layers.LayerNormalization(epsilon=1e-6)(encoded_patches)\n",
        "        attention_output = layers.MultiHeadAttention(\n",
        "            num_heads=num_heads, key_dim=projection_dim, dropout=0.1\n",
        "        )(x1, x1)\n",
        "        x2 = layers.Add()([attention_output, encoded_patches])\n",
        "        x3 = layers.LayerNormalization(epsilon=1e-6)(x2)\n",
        "        x3 = mlp(x3, hidden_units=transformer_units, dropout_rate=0.1)\n",
        "        encoded_patches = layers.Add()([x3, x2])\n",
        "\n",
        "    representation = layers.LayerNormalization(epsilon=1e-6)(encoded_patches)\n",
        "    representation = layers.Flatten()(representation)\n",
        "    representation = layers.Dropout(0.5)(representation)\n",
        "    features = mlp(representation, hidden_units=mlp_head_units, dropout_rate=0.5)\n",
        "    logits = layers.Dense(num_classes)(features)\n",
        "    model = keras.Model(inputs=inputs, outputs=logits)\n",
        "    return model"
      ],
      "metadata": {
        "id": "gSAR1qm6phz-"
      },
      "execution_count": 10,
      "outputs": []
    },
    {
      "cell_type": "code",
      "source": [
        "def run_experiment(model):\n",
        "  optimizer = tfa.optimizers.AdamW(\n",
        "      learning_rate = learning_rate, weight_decay = weight_decay\n",
        "  )\n",
        "\n",
        "  model.compile(\n",
        "      optimizer = optimizer,\n",
        "      loss = keras.losses.SparseCategoricalCrossentropy(from_logits=True),\n",
        "      metrics = [\n",
        "          keras.metrics.SparseCategoricalAccuracy(name=\"accuracy\"),\n",
        "          keras.metrics.SparseTopKCategoricalAccuracy(5, name=\"top-5-accuracy\"),\n",
        "      ],\n",
        "  )\n",
        "  checkpoint_filepath = \"./temp/checkpoint\"\n",
        "  checkpoint_callback = keras.callbacks.ModelCheckpoint(\n",
        "      checkpoint_filepath,\n",
        "      monitor = \"val_accuracy\",\n",
        "      save_best_only = True,\n",
        "      save_weights_only = True\n",
        "  )\n",
        "  history = model.fit(\n",
        "      x = x_train,\n",
        "      y = y_train,\n",
        "      batch_size = batch_size,\n",
        "      epochs = num_epochs,\n",
        "      validation_split = 0.1,\n",
        "      callbacks = [checkpoint_callback],\n",
        "  )\n",
        "\n",
        "  model.load_weights(checkpoint_filepath)\n",
        "  _, accuracy, top_5_accuracy = model.evaluate(x_test, y_test)\n",
        "  print(f\"Test accuracy: {round(accuracy*100, 2)}%\")\n",
        "  print(f\"Test top 5 accuracy: {round(top_5_accuracy*100, 2)}%\")"
      ],
      "metadata": {
        "id": "b9ZsC_7_ps2Y"
      },
      "execution_count": 11,
      "outputs": []
    },
    {
      "cell_type": "code",
      "source": [
        "vit_classifier = create_vit_classifier()\n",
        "history = run_experiment(vit_classifier)"
      ],
      "metadata": {
        "colab": {
          "base_uri": "https://localhost:8080/"
        },
        "id": "DtoLpDVSqE-m",
        "outputId": "e03be786-2098-4306-80ba-05540258f310"
      },
      "execution_count": 14,
      "outputs": [
        {
          "output_type": "stream",
          "name": "stdout",
          "text": [
            "Patch shape before projection: (None, None, 108)\n",
            "Patch shape before projection: (None, None, 108)\n",
            "Patch shape after projection: (None, None, 64)\n",
            "Patch shape after projection: (None, 144, 64)\n",
            "Epoch 1/40\n",
            "Patch shape before projection: (None, None, 108)\n",
            "Patch shape after projection: (None, None, 64)\n",
            "Patch shape before projection: (None, None, 108)\n",
            "Patch shape after projection: (None, None, 64)\n",
            "2/2 [==============================] - ETA: 0s - loss: 6.4856 - accuracy: 0.1244 - top-5-accuracy: 0.5244 Patch shape before projection: (None, None, 108)\n",
            "Patch shape after projection: (None, None, 64)\n",
            "2/2 [==============================] - 57s 20s/step - loss: 6.4856 - accuracy: 0.1244 - top-5-accuracy: 0.5244 - val_loss: 4.7268 - val_accuracy: 0.1800 - val_top-5-accuracy: 0.6400\n",
            "Epoch 2/40\n",
            "2/2 [==============================] - 34s 15s/step - loss: 5.9839 - accuracy: 0.2022 - top-5-accuracy: 0.5822 - val_loss: 2.7036 - val_accuracy: 0.2200 - val_top-5-accuracy: 0.6800\n",
            "Epoch 3/40\n",
            "2/2 [==============================] - 35s 15s/step - loss: 3.5080 - accuracy: 0.2244 - top-5-accuracy: 0.6933 - val_loss: 2.4398 - val_accuracy: 0.2600 - val_top-5-accuracy: 0.6600\n",
            "Epoch 4/40\n",
            "2/2 [==============================] - 32s 14s/step - loss: 2.7563 - accuracy: 0.2422 - top-5-accuracy: 0.7533 - val_loss: 2.3787 - val_accuracy: 0.1800 - val_top-5-accuracy: 0.7200\n",
            "Epoch 5/40\n",
            "2/2 [==============================] - 32s 14s/step - loss: 2.6911 - accuracy: 0.2311 - top-5-accuracy: 0.7244 - val_loss: 2.2032 - val_accuracy: 0.1800 - val_top-5-accuracy: 0.7000\n",
            "Epoch 6/40\n",
            "2/2 [==============================] - 33s 14s/step - loss: 2.3508 - accuracy: 0.2800 - top-5-accuracy: 0.7422 - val_loss: 2.0292 - val_accuracy: 0.2200 - val_top-5-accuracy: 0.8200\n",
            "Epoch 7/40\n",
            "2/2 [==============================] - 33s 14s/step - loss: 2.3120 - accuracy: 0.2867 - top-5-accuracy: 0.7556 - val_loss: 2.0084 - val_accuracy: 0.2200 - val_top-5-accuracy: 0.7800\n",
            "Epoch 8/40\n",
            "2/2 [==============================] - 33s 14s/step - loss: 2.0121 - accuracy: 0.3378 - top-5-accuracy: 0.8356 - val_loss: 1.9983 - val_accuracy: 0.2400 - val_top-5-accuracy: 0.7800\n",
            "Epoch 9/40\n",
            "2/2 [==============================] - 38s 20s/step - loss: 2.0706 - accuracy: 0.3489 - top-5-accuracy: 0.8067 - val_loss: 1.9434 - val_accuracy: 0.2800 - val_top-5-accuracy: 0.7800\n",
            "Epoch 10/40\n",
            "2/2 [==============================] - 33s 15s/step - loss: 1.9750 - accuracy: 0.3200 - top-5-accuracy: 0.8267 - val_loss: 1.9295 - val_accuracy: 0.3200 - val_top-5-accuracy: 0.8000\n",
            "Epoch 11/40\n",
            "2/2 [==============================] - 35s 15s/step - loss: 1.8295 - accuracy: 0.3978 - top-5-accuracy: 0.8533 - val_loss: 1.8874 - val_accuracy: 0.3000 - val_top-5-accuracy: 0.7800\n",
            "Epoch 12/40\n",
            "2/2 [==============================] - 34s 15s/step - loss: 1.7969 - accuracy: 0.3867 - top-5-accuracy: 0.8356 - val_loss: 1.9072 - val_accuracy: 0.2600 - val_top-5-accuracy: 0.8400\n",
            "Epoch 13/40\n",
            "2/2 [==============================] - 40s 14s/step - loss: 1.7486 - accuracy: 0.4044 - top-5-accuracy: 0.8622 - val_loss: 1.9775 - val_accuracy: 0.2000 - val_top-5-accuracy: 0.8200\n",
            "Epoch 14/40\n",
            "2/2 [==============================] - 35s 15s/step - loss: 1.7528 - accuracy: 0.4244 - top-5-accuracy: 0.8756 - val_loss: 1.9757 - val_accuracy: 0.1800 - val_top-5-accuracy: 0.8000\n",
            "Epoch 15/40\n",
            "2/2 [==============================] - 33s 14s/step - loss: 1.6245 - accuracy: 0.4311 - top-5-accuracy: 0.9000 - val_loss: 1.9469 - val_accuracy: 0.2200 - val_top-5-accuracy: 0.8600\n",
            "Epoch 16/40\n",
            "2/2 [==============================] - 32s 14s/step - loss: 1.6521 - accuracy: 0.4578 - top-5-accuracy: 0.8778 - val_loss: 1.9402 - val_accuracy: 0.2600 - val_top-5-accuracy: 0.8400\n",
            "Epoch 17/40\n",
            "2/2 [==============================] - 33s 14s/step - loss: 1.6272 - accuracy: 0.4400 - top-5-accuracy: 0.8911 - val_loss: 1.9391 - val_accuracy: 0.2400 - val_top-5-accuracy: 0.8400\n",
            "Epoch 18/40\n",
            "2/2 [==============================] - 34s 15s/step - loss: 1.3945 - accuracy: 0.5222 - top-5-accuracy: 0.9356 - val_loss: 1.9691 - val_accuracy: 0.2200 - val_top-5-accuracy: 0.8000\n",
            "Epoch 19/40\n",
            "2/2 [==============================] - 34s 14s/step - loss: 1.4273 - accuracy: 0.5267 - top-5-accuracy: 0.9333 - val_loss: 1.9985 - val_accuracy: 0.2400 - val_top-5-accuracy: 0.7800\n",
            "Epoch 20/40\n",
            "2/2 [==============================] - 33s 15s/step - loss: 1.4621 - accuracy: 0.4778 - top-5-accuracy: 0.9111 - val_loss: 2.0086 - val_accuracy: 0.2000 - val_top-5-accuracy: 0.8000\n",
            "Epoch 21/40\n",
            "2/2 [==============================] - 35s 14s/step - loss: 1.3399 - accuracy: 0.5111 - top-5-accuracy: 0.9244 - val_loss: 2.0649 - val_accuracy: 0.2400 - val_top-5-accuracy: 0.8200\n",
            "Epoch 22/40\n",
            "2/2 [==============================] - 34s 15s/step - loss: 1.3473 - accuracy: 0.5422 - top-5-accuracy: 0.9378 - val_loss: 2.1597 - val_accuracy: 0.2200 - val_top-5-accuracy: 0.8000\n",
            "Epoch 23/40\n",
            "2/2 [==============================] - 34s 15s/step - loss: 1.2302 - accuracy: 0.5378 - top-5-accuracy: 0.9556 - val_loss: 2.2530 - val_accuracy: 0.2000 - val_top-5-accuracy: 0.8000\n",
            "Epoch 24/40\n",
            "2/2 [==============================] - 33s 15s/step - loss: 1.3231 - accuracy: 0.5778 - top-5-accuracy: 0.9333 - val_loss: 2.2865 - val_accuracy: 0.2600 - val_top-5-accuracy: 0.8000\n",
            "Epoch 25/40\n",
            "2/2 [==============================] - 34s 15s/step - loss: 1.1964 - accuracy: 0.5778 - top-5-accuracy: 0.9711 - val_loss: 2.2640 - val_accuracy: 0.2800 - val_top-5-accuracy: 0.7800\n",
            "Epoch 26/40\n",
            "2/2 [==============================] - 32s 14s/step - loss: 1.1863 - accuracy: 0.5800 - top-5-accuracy: 0.9600 - val_loss: 2.2336 - val_accuracy: 0.2200 - val_top-5-accuracy: 0.8200\n",
            "Epoch 27/40\n",
            "2/2 [==============================] - 34s 15s/step - loss: 1.0552 - accuracy: 0.5978 - top-5-accuracy: 0.9622 - val_loss: 2.2159 - val_accuracy: 0.2200 - val_top-5-accuracy: 0.8200\n",
            "Epoch 28/40\n",
            "2/2 [==============================] - 32s 14s/step - loss: 1.0884 - accuracy: 0.6133 - top-5-accuracy: 0.9711 - val_loss: 2.1946 - val_accuracy: 0.2200 - val_top-5-accuracy: 0.8400\n",
            "Epoch 29/40\n",
            "2/2 [==============================] - 33s 14s/step - loss: 1.0607 - accuracy: 0.6044 - top-5-accuracy: 0.9622 - val_loss: 2.1812 - val_accuracy: 0.2400 - val_top-5-accuracy: 0.8200\n",
            "Epoch 30/40\n",
            "2/2 [==============================] - 32s 14s/step - loss: 0.8996 - accuracy: 0.6800 - top-5-accuracy: 0.9711 - val_loss: 2.1833 - val_accuracy: 0.2600 - val_top-5-accuracy: 0.8000\n",
            "Epoch 31/40\n",
            "2/2 [==============================] - 42s 14s/step - loss: 1.0135 - accuracy: 0.6333 - top-5-accuracy: 0.9844 - val_loss: 2.2506 - val_accuracy: 0.2600 - val_top-5-accuracy: 0.8200\n",
            "Epoch 32/40\n",
            "2/2 [==============================] - 32s 14s/step - loss: 0.8824 - accuracy: 0.7200 - top-5-accuracy: 0.9622 - val_loss: 2.3792 - val_accuracy: 0.2800 - val_top-5-accuracy: 0.8000\n",
            "Epoch 33/40\n",
            "2/2 [==============================] - 33s 14s/step - loss: 0.8869 - accuracy: 0.6444 - top-5-accuracy: 0.9889 - val_loss: 2.4773 - val_accuracy: 0.2400 - val_top-5-accuracy: 0.8000\n",
            "Epoch 34/40\n",
            "2/2 [==============================] - 32s 14s/step - loss: 0.8214 - accuracy: 0.6911 - top-5-accuracy: 0.9844 - val_loss: 2.5872 - val_accuracy: 0.2400 - val_top-5-accuracy: 0.8200\n",
            "Epoch 35/40\n",
            "2/2 [==============================] - 34s 14s/step - loss: 0.8725 - accuracy: 0.6756 - top-5-accuracy: 0.9889 - val_loss: 2.7551 - val_accuracy: 0.2600 - val_top-5-accuracy: 0.8400\n",
            "Epoch 36/40\n",
            "2/2 [==============================] - 32s 14s/step - loss: 0.8146 - accuracy: 0.7267 - top-5-accuracy: 0.9800 - val_loss: 2.8451 - val_accuracy: 0.2400 - val_top-5-accuracy: 0.8400\n",
            "Epoch 37/40\n",
            "2/2 [==============================] - 33s 15s/step - loss: 0.8089 - accuracy: 0.7044 - top-5-accuracy: 0.9844 - val_loss: 2.8839 - val_accuracy: 0.2400 - val_top-5-accuracy: 0.8400\n",
            "Epoch 38/40\n",
            "2/2 [==============================] - 33s 15s/step - loss: 0.7699 - accuracy: 0.7267 - top-5-accuracy: 0.9889 - val_loss: 2.7780 - val_accuracy: 0.2200 - val_top-5-accuracy: 0.8000\n",
            "Epoch 39/40\n",
            "2/2 [==============================] - 32s 14s/step - loss: 0.7387 - accuracy: 0.7556 - top-5-accuracy: 0.9822 - val_loss: 2.7564 - val_accuracy: 0.2000 - val_top-5-accuracy: 0.8000\n",
            "Epoch 40/40\n",
            "2/2 [==============================] - 34s 14s/step - loss: 0.6167 - accuracy: 0.7756 - top-5-accuracy: 0.9978 - val_loss: 2.8784 - val_accuracy: 0.2000 - val_top-5-accuracy: 0.8000\n",
            "16/16 [==============================] - 10s 619ms/step - loss: 1.9513 - accuracy: 0.2680 - top-5-accuracy: 0.8080\n",
            "Test accuracy: 26.8%\n",
            "Test top 5 accuracy: 80.8%\n"
          ]
        }
      ]
    }
  ]
}